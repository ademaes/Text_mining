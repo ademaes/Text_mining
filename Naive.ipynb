{
  "cells": [
    {
      "cell_type": "code",
      "execution_count": null,
      "metadata": {
        "id": "FIYIxElEuPG3"
      },
      "outputs": [],
      "source": [
        "#analisis de sentimientos en reclamaciones:\n",
        "# datasets download: https://files.consumerfinance.gov/ccdb/complaints.csv.zip"
      ]
    },
    {
      "cell_type": "code",
      "execution_count": 1,
      "metadata": {
        "id": "cwRX5hbauPG8",
        "outputId": "63a972ef-d16d-404c-a124-fbfc9b7fa351",
        "colab": {
          "base_uri": "https://localhost:8080/"
        }
      },
      "outputs": [
        {
          "output_type": "stream",
          "name": "stdout",
          "text": [
            "Mounted at /content/gdrive\n"
          ]
        }
      ],
      "source": [
        "#configuración en google colab de spark y pyspark\n",
        "from google.colab import drive\n",
        "drive.mount('/content/gdrive')"
      ]
    },
    {
      "cell_type": "code",
      "execution_count": 2,
      "metadata": {
        "id": "kNlUiFlKuPG9",
        "outputId": "6331db69-b12f-4326-a08c-eab96b0e27fb",
        "colab": {
          "base_uri": "https://localhost:8080/"
        }
      },
      "outputs": [
        {
          "output_type": "execute_result",
          "data": {
            "text/plain": [
              "['Archive:  complaints.csv.zip', '  inflating: complaints.csv          ']"
            ]
          },
          "metadata": {},
          "execution_count": 2
        }
      ],
      "source": [
        "!wget -q https://files.consumerfinance.gov/ccdb/complaints.csv.zip\n",
        "!!unzip complaints.csv.zip"
      ]
    },
    {
      "cell_type": "code",
      "execution_count": 3,
      "metadata": {
        "id": "cIadMJlnuPG9",
        "outputId": "7855c8f9-8651-4bae-e79c-c9572ce4e939",
        "colab": {
          "base_uri": "https://localhost:8080/",
          "height": 791
        }
      },
      "outputs": [
        {
          "output_type": "stream",
          "name": "stderr",
          "text": [
            "<ipython-input-3-11ed8a2b87ea>:3: DtypeWarning: Columns (9) have mixed types. Specify dtype option on import or set low_memory=False.\n",
            "  df = pd.read_csv('complaints.csv')\n"
          ]
        },
        {
          "output_type": "execute_result",
          "data": {
            "text/plain": [
              "   Date received                                            Product  \\\n",
              "7     2023-02-04  Credit reporting, credit repair services, or o...   \n",
              "9     2023-02-05  Credit reporting, credit repair services, or o...   \n",
              "28    2023-02-02  Credit reporting, credit repair services, or o...   \n",
              "37    2023-02-02  Credit reporting, credit repair services, or o...   \n",
              "38    2023-02-02  Credit reporting, credit repair services, or o...   \n",
              "\n",
              "         Sub-product                                              Issue  \\\n",
              "7   Credit reporting                        Improper use of your report   \n",
              "9   Credit reporting  Problem with a credit reporting company's inve...   \n",
              "28  Credit reporting               Incorrect information on your report   \n",
              "37  Credit reporting               Incorrect information on your report   \n",
              "38  Credit reporting               Incorrect information on your report   \n",
              "\n",
              "                                            Sub-issue  \\\n",
              "7       Reporting company used your report improperly   \n",
              "9   Their investigation did not fix an error on yo...   \n",
              "28                           Account status incorrect   \n",
              "37                      Account information incorrect   \n",
              "38                Information belongs to someone else   \n",
              "\n",
              "                         Consumer complaint narrative  \\\n",
              "7   In accordance with the Fair Credit Reporting a...   \n",
              "9   This company is still reporting on an account ...   \n",
              "28  ON XX/XX/2022, MY XX/XX/2022 RECORDED CALL FRO...   \n",
              "37  XXXX/ XXXX  credit card balance was incorrectl...   \n",
              "38  My credit report contains a significant number...   \n",
              "\n",
              "                              Company public response  \\\n",
              "7   Company has responded to the consumer and the ...   \n",
              "9   Company has responded to the consumer and the ...   \n",
              "28  Company has responded to the consumer and the ...   \n",
              "37  Company has responded to the consumer and the ...   \n",
              "38  Company has responded to the consumer and the ...   \n",
              "\n",
              "                                   Company State ZIP code Tags  \\\n",
              "7   TRANSUNION INTERMEDIATE HOLDINGS, INC.    NV  89523.0  NaN   \n",
              "9   TRANSUNION INTERMEDIATE HOLDINGS, INC.    IN  46341.0  NaN   \n",
              "28  TRANSUNION INTERMEDIATE HOLDINGS, INC.    AR  71913.0  NaN   \n",
              "37  TRANSUNION INTERMEDIATE HOLDINGS, INC.    MO  63138.0  NaN   \n",
              "38  TRANSUNION INTERMEDIATE HOLDINGS, INC.    MI  48224.0  NaN   \n",
              "\n",
              "   Consumer consent provided? Submitted via Date sent to company  \\\n",
              "7            Consent provided           Web           2023-02-04   \n",
              "9            Consent provided           Web           2023-02-05   \n",
              "28           Consent provided           Web           2023-02-02   \n",
              "37           Consent provided           Web           2023-02-02   \n",
              "38           Consent provided           Web           2023-02-02   \n",
              "\n",
              "       Company response to consumer Timely response? Consumer disputed?  \\\n",
              "7   Closed with non-monetary relief              Yes                NaN   \n",
              "9   Closed with non-monetary relief              Yes                NaN   \n",
              "28  Closed with non-monetary relief              Yes                NaN   \n",
              "37  Closed with non-monetary relief              Yes                NaN   \n",
              "38  Closed with non-monetary relief              Yes                NaN   \n",
              "\n",
              "    Complaint ID  \n",
              "7        6526478  \n",
              "9        6523656  \n",
              "28       6532044  \n",
              "37       6520988  \n",
              "38       6520845  "
            ],
            "text/html": [
              "\n",
              "  <div id=\"df-82bdde33-52d7-4e6f-80ff-66feccf75bec\">\n",
              "    <div class=\"colab-df-container\">\n",
              "      <div>\n",
              "<style scoped>\n",
              "    .dataframe tbody tr th:only-of-type {\n",
              "        vertical-align: middle;\n",
              "    }\n",
              "\n",
              "    .dataframe tbody tr th {\n",
              "        vertical-align: top;\n",
              "    }\n",
              "\n",
              "    .dataframe thead th {\n",
              "        text-align: right;\n",
              "    }\n",
              "</style>\n",
              "<table border=\"1\" class=\"dataframe\">\n",
              "  <thead>\n",
              "    <tr style=\"text-align: right;\">\n",
              "      <th></th>\n",
              "      <th>Date received</th>\n",
              "      <th>Product</th>\n",
              "      <th>Sub-product</th>\n",
              "      <th>Issue</th>\n",
              "      <th>Sub-issue</th>\n",
              "      <th>Consumer complaint narrative</th>\n",
              "      <th>Company public response</th>\n",
              "      <th>Company</th>\n",
              "      <th>State</th>\n",
              "      <th>ZIP code</th>\n",
              "      <th>Tags</th>\n",
              "      <th>Consumer consent provided?</th>\n",
              "      <th>Submitted via</th>\n",
              "      <th>Date sent to company</th>\n",
              "      <th>Company response to consumer</th>\n",
              "      <th>Timely response?</th>\n",
              "      <th>Consumer disputed?</th>\n",
              "      <th>Complaint ID</th>\n",
              "    </tr>\n",
              "  </thead>\n",
              "  <tbody>\n",
              "    <tr>\n",
              "      <th>7</th>\n",
              "      <td>2023-02-04</td>\n",
              "      <td>Credit reporting, credit repair services, or o...</td>\n",
              "      <td>Credit reporting</td>\n",
              "      <td>Improper use of your report</td>\n",
              "      <td>Reporting company used your report improperly</td>\n",
              "      <td>In accordance with the Fair Credit Reporting a...</td>\n",
              "      <td>Company has responded to the consumer and the ...</td>\n",
              "      <td>TRANSUNION INTERMEDIATE HOLDINGS, INC.</td>\n",
              "      <td>NV</td>\n",
              "      <td>89523.0</td>\n",
              "      <td>NaN</td>\n",
              "      <td>Consent provided</td>\n",
              "      <td>Web</td>\n",
              "      <td>2023-02-04</td>\n",
              "      <td>Closed with non-monetary relief</td>\n",
              "      <td>Yes</td>\n",
              "      <td>NaN</td>\n",
              "      <td>6526478</td>\n",
              "    </tr>\n",
              "    <tr>\n",
              "      <th>9</th>\n",
              "      <td>2023-02-05</td>\n",
              "      <td>Credit reporting, credit repair services, or o...</td>\n",
              "      <td>Credit reporting</td>\n",
              "      <td>Problem with a credit reporting company's inve...</td>\n",
              "      <td>Their investigation did not fix an error on yo...</td>\n",
              "      <td>This company is still reporting on an account ...</td>\n",
              "      <td>Company has responded to the consumer and the ...</td>\n",
              "      <td>TRANSUNION INTERMEDIATE HOLDINGS, INC.</td>\n",
              "      <td>IN</td>\n",
              "      <td>46341.0</td>\n",
              "      <td>NaN</td>\n",
              "      <td>Consent provided</td>\n",
              "      <td>Web</td>\n",
              "      <td>2023-02-05</td>\n",
              "      <td>Closed with non-monetary relief</td>\n",
              "      <td>Yes</td>\n",
              "      <td>NaN</td>\n",
              "      <td>6523656</td>\n",
              "    </tr>\n",
              "    <tr>\n",
              "      <th>28</th>\n",
              "      <td>2023-02-02</td>\n",
              "      <td>Credit reporting, credit repair services, or o...</td>\n",
              "      <td>Credit reporting</td>\n",
              "      <td>Incorrect information on your report</td>\n",
              "      <td>Account status incorrect</td>\n",
              "      <td>ON XX/XX/2022, MY XX/XX/2022 RECORDED CALL FRO...</td>\n",
              "      <td>Company has responded to the consumer and the ...</td>\n",
              "      <td>TRANSUNION INTERMEDIATE HOLDINGS, INC.</td>\n",
              "      <td>AR</td>\n",
              "      <td>71913.0</td>\n",
              "      <td>NaN</td>\n",
              "      <td>Consent provided</td>\n",
              "      <td>Web</td>\n",
              "      <td>2023-02-02</td>\n",
              "      <td>Closed with non-monetary relief</td>\n",
              "      <td>Yes</td>\n",
              "      <td>NaN</td>\n",
              "      <td>6532044</td>\n",
              "    </tr>\n",
              "    <tr>\n",
              "      <th>37</th>\n",
              "      <td>2023-02-02</td>\n",
              "      <td>Credit reporting, credit repair services, or o...</td>\n",
              "      <td>Credit reporting</td>\n",
              "      <td>Incorrect information on your report</td>\n",
              "      <td>Account information incorrect</td>\n",
              "      <td>XXXX/ XXXX  credit card balance was incorrectl...</td>\n",
              "      <td>Company has responded to the consumer and the ...</td>\n",
              "      <td>TRANSUNION INTERMEDIATE HOLDINGS, INC.</td>\n",
              "      <td>MO</td>\n",
              "      <td>63138.0</td>\n",
              "      <td>NaN</td>\n",
              "      <td>Consent provided</td>\n",
              "      <td>Web</td>\n",
              "      <td>2023-02-02</td>\n",
              "      <td>Closed with non-monetary relief</td>\n",
              "      <td>Yes</td>\n",
              "      <td>NaN</td>\n",
              "      <td>6520988</td>\n",
              "    </tr>\n",
              "    <tr>\n",
              "      <th>38</th>\n",
              "      <td>2023-02-02</td>\n",
              "      <td>Credit reporting, credit repair services, or o...</td>\n",
              "      <td>Credit reporting</td>\n",
              "      <td>Incorrect information on your report</td>\n",
              "      <td>Information belongs to someone else</td>\n",
              "      <td>My credit report contains a significant number...</td>\n",
              "      <td>Company has responded to the consumer and the ...</td>\n",
              "      <td>TRANSUNION INTERMEDIATE HOLDINGS, INC.</td>\n",
              "      <td>MI</td>\n",
              "      <td>48224.0</td>\n",
              "      <td>NaN</td>\n",
              "      <td>Consent provided</td>\n",
              "      <td>Web</td>\n",
              "      <td>2023-02-02</td>\n",
              "      <td>Closed with non-monetary relief</td>\n",
              "      <td>Yes</td>\n",
              "      <td>NaN</td>\n",
              "      <td>6520845</td>\n",
              "    </tr>\n",
              "  </tbody>\n",
              "</table>\n",
              "</div>\n",
              "      <button class=\"colab-df-convert\" onclick=\"convertToInteractive('df-82bdde33-52d7-4e6f-80ff-66feccf75bec')\"\n",
              "              title=\"Convert this dataframe to an interactive table.\"\n",
              "              style=\"display:none;\">\n",
              "        \n",
              "  <svg xmlns=\"http://www.w3.org/2000/svg\" height=\"24px\"viewBox=\"0 0 24 24\"\n",
              "       width=\"24px\">\n",
              "    <path d=\"M0 0h24v24H0V0z\" fill=\"none\"/>\n",
              "    <path d=\"M18.56 5.44l.94 2.06.94-2.06 2.06-.94-2.06-.94-.94-2.06-.94 2.06-2.06.94zm-11 1L8.5 8.5l.94-2.06 2.06-.94-2.06-.94L8.5 2.5l-.94 2.06-2.06.94zm10 10l.94 2.06.94-2.06 2.06-.94-2.06-.94-.94-2.06-.94 2.06-2.06.94z\"/><path d=\"M17.41 7.96l-1.37-1.37c-.4-.4-.92-.59-1.43-.59-.52 0-1.04.2-1.43.59L10.3 9.45l-7.72 7.72c-.78.78-.78 2.05 0 2.83L4 21.41c.39.39.9.59 1.41.59.51 0 1.02-.2 1.41-.59l7.78-7.78 2.81-2.81c.8-.78.8-2.07 0-2.86zM5.41 20L4 18.59l7.72-7.72 1.47 1.35L5.41 20z\"/>\n",
              "  </svg>\n",
              "      </button>\n",
              "      \n",
              "  <style>\n",
              "    .colab-df-container {\n",
              "      display:flex;\n",
              "      flex-wrap:wrap;\n",
              "      gap: 12px;\n",
              "    }\n",
              "\n",
              "    .colab-df-convert {\n",
              "      background-color: #E8F0FE;\n",
              "      border: none;\n",
              "      border-radius: 50%;\n",
              "      cursor: pointer;\n",
              "      display: none;\n",
              "      fill: #1967D2;\n",
              "      height: 32px;\n",
              "      padding: 0 0 0 0;\n",
              "      width: 32px;\n",
              "    }\n",
              "\n",
              "    .colab-df-convert:hover {\n",
              "      background-color: #E2EBFA;\n",
              "      box-shadow: 0px 1px 2px rgba(60, 64, 67, 0.3), 0px 1px 3px 1px rgba(60, 64, 67, 0.15);\n",
              "      fill: #174EA6;\n",
              "    }\n",
              "\n",
              "    [theme=dark] .colab-df-convert {\n",
              "      background-color: #3B4455;\n",
              "      fill: #D2E3FC;\n",
              "    }\n",
              "\n",
              "    [theme=dark] .colab-df-convert:hover {\n",
              "      background-color: #434B5C;\n",
              "      box-shadow: 0px 1px 3px 1px rgba(0, 0, 0, 0.15);\n",
              "      filter: drop-shadow(0px 1px 2px rgba(0, 0, 0, 0.3));\n",
              "      fill: #FFFFFF;\n",
              "    }\n",
              "  </style>\n",
              "\n",
              "      <script>\n",
              "        const buttonEl =\n",
              "          document.querySelector('#df-82bdde33-52d7-4e6f-80ff-66feccf75bec button.colab-df-convert');\n",
              "        buttonEl.style.display =\n",
              "          google.colab.kernel.accessAllowed ? 'block' : 'none';\n",
              "\n",
              "        async function convertToInteractive(key) {\n",
              "          const element = document.querySelector('#df-82bdde33-52d7-4e6f-80ff-66feccf75bec');\n",
              "          const dataTable =\n",
              "            await google.colab.kernel.invokeFunction('convertToInteractive',\n",
              "                                                     [key], {});\n",
              "          if (!dataTable) return;\n",
              "\n",
              "          const docLinkHtml = 'Like what you see? Visit the ' +\n",
              "            '<a target=\"_blank\" href=https://colab.research.google.com/notebooks/data_table.ipynb>data table notebook</a>'\n",
              "            + ' to learn more about interactive tables.';\n",
              "          element.innerHTML = '';\n",
              "          dataTable['output_type'] = 'display_data';\n",
              "          await google.colab.output.renderOutput(dataTable, element);\n",
              "          const docLink = document.createElement('div');\n",
              "          docLink.innerHTML = docLinkHtml;\n",
              "          element.appendChild(docLink);\n",
              "        }\n",
              "      </script>\n",
              "    </div>\n",
              "  </div>\n",
              "  "
            ]
          },
          "metadata": {},
          "execution_count": 3
        }
      ],
      "source": [
        "#exploración de datos:\n",
        "import pandas as pd\n",
        "df = pd.read_csv('complaints.csv')\n",
        "df = df[pd.notnull(df['Consumer complaint narrative'])]\n",
        "df.head()"
      ]
    },
    {
      "cell_type": "code",
      "execution_count": 4,
      "metadata": {
        "id": "RqCJr07juPG-",
        "outputId": "5cf20f29-0949-487b-cded-e7dafdc77127",
        "colab": {
          "base_uri": "https://localhost:8080/"
        }
      },
      "outputs": [
        {
          "output_type": "execute_result",
          "data": {
            "text/plain": [
              "Date received                   1240728\n",
              "Product                         1240728\n",
              "Sub-product                     1188521\n",
              "Issue                           1240728\n",
              "Sub-issue                       1037409\n",
              "Consumer complaint narrative    1240728\n",
              "Company public response          627488\n",
              "Company                         1240728\n",
              "State                           1235808\n",
              "ZIP code                        1235470\n",
              "Tags                             179031\n",
              "Consumer consent provided?      1240728\n",
              "Submitted via                   1240728\n",
              "Date sent to company            1240728\n",
              "Company response to consumer    1240726\n",
              "Timely response?                1240728\n",
              "Consumer disputed?               164054\n",
              "Complaint ID                    1240728\n",
              "dtype: int64"
            ]
          },
          "metadata": {},
          "execution_count": 4
        }
      ],
      "source": [
        "df.count()"
      ]
    },
    {
      "cell_type": "code",
      "execution_count": 5,
      "metadata": {
        "id": "M5c7UXEPuPG-",
        "outputId": "1087a683-3a98-4cf5-ac52-e1d46146af70",
        "colab": {
          "base_uri": "https://localhost:8080/",
          "height": 337
        }
      },
      "outputs": [
        {
          "output_type": "execute_result",
          "data": {
            "text/plain": [
              "                                              Product  \\\n",
              "7   Credit reporting, credit repair services, or o...   \n",
              "9   Credit reporting, credit repair services, or o...   \n",
              "28  Credit reporting, credit repair services, or o...   \n",
              "37  Credit reporting, credit repair services, or o...   \n",
              "38  Credit reporting, credit repair services, or o...   \n",
              "\n",
              "                         Consumer_complaint_narrative  category_id  \n",
              "7   In accordance with the Fair Credit Reporting a...            0  \n",
              "9   This company is still reporting on an account ...            0  \n",
              "28  ON XX/XX/2022, MY XX/XX/2022 RECORDED CALL FRO...            0  \n",
              "37  XXXX/ XXXX  credit card balance was incorrectl...            0  \n",
              "38  My credit report contains a significant number...            0  "
            ],
            "text/html": [
              "\n",
              "  <div id=\"df-d8261634-69af-4876-bb71-d5e68b1e429c\">\n",
              "    <div class=\"colab-df-container\">\n",
              "      <div>\n",
              "<style scoped>\n",
              "    .dataframe tbody tr th:only-of-type {\n",
              "        vertical-align: middle;\n",
              "    }\n",
              "\n",
              "    .dataframe tbody tr th {\n",
              "        vertical-align: top;\n",
              "    }\n",
              "\n",
              "    .dataframe thead th {\n",
              "        text-align: right;\n",
              "    }\n",
              "</style>\n",
              "<table border=\"1\" class=\"dataframe\">\n",
              "  <thead>\n",
              "    <tr style=\"text-align: right;\">\n",
              "      <th></th>\n",
              "      <th>Product</th>\n",
              "      <th>Consumer_complaint_narrative</th>\n",
              "      <th>category_id</th>\n",
              "    </tr>\n",
              "  </thead>\n",
              "  <tbody>\n",
              "    <tr>\n",
              "      <th>7</th>\n",
              "      <td>Credit reporting, credit repair services, or o...</td>\n",
              "      <td>In accordance with the Fair Credit Reporting a...</td>\n",
              "      <td>0</td>\n",
              "    </tr>\n",
              "    <tr>\n",
              "      <th>9</th>\n",
              "      <td>Credit reporting, credit repair services, or o...</td>\n",
              "      <td>This company is still reporting on an account ...</td>\n",
              "      <td>0</td>\n",
              "    </tr>\n",
              "    <tr>\n",
              "      <th>28</th>\n",
              "      <td>Credit reporting, credit repair services, or o...</td>\n",
              "      <td>ON XX/XX/2022, MY XX/XX/2022 RECORDED CALL FRO...</td>\n",
              "      <td>0</td>\n",
              "    </tr>\n",
              "    <tr>\n",
              "      <th>37</th>\n",
              "      <td>Credit reporting, credit repair services, or o...</td>\n",
              "      <td>XXXX/ XXXX  credit card balance was incorrectl...</td>\n",
              "      <td>0</td>\n",
              "    </tr>\n",
              "    <tr>\n",
              "      <th>38</th>\n",
              "      <td>Credit reporting, credit repair services, or o...</td>\n",
              "      <td>My credit report contains a significant number...</td>\n",
              "      <td>0</td>\n",
              "    </tr>\n",
              "  </tbody>\n",
              "</table>\n",
              "</div>\n",
              "      <button class=\"colab-df-convert\" onclick=\"convertToInteractive('df-d8261634-69af-4876-bb71-d5e68b1e429c')\"\n",
              "              title=\"Convert this dataframe to an interactive table.\"\n",
              "              style=\"display:none;\">\n",
              "        \n",
              "  <svg xmlns=\"http://www.w3.org/2000/svg\" height=\"24px\"viewBox=\"0 0 24 24\"\n",
              "       width=\"24px\">\n",
              "    <path d=\"M0 0h24v24H0V0z\" fill=\"none\"/>\n",
              "    <path d=\"M18.56 5.44l.94 2.06.94-2.06 2.06-.94-2.06-.94-.94-2.06-.94 2.06-2.06.94zm-11 1L8.5 8.5l.94-2.06 2.06-.94-2.06-.94L8.5 2.5l-.94 2.06-2.06.94zm10 10l.94 2.06.94-2.06 2.06-.94-2.06-.94-.94-2.06-.94 2.06-2.06.94z\"/><path d=\"M17.41 7.96l-1.37-1.37c-.4-.4-.92-.59-1.43-.59-.52 0-1.04.2-1.43.59L10.3 9.45l-7.72 7.72c-.78.78-.78 2.05 0 2.83L4 21.41c.39.39.9.59 1.41.59.51 0 1.02-.2 1.41-.59l7.78-7.78 2.81-2.81c.8-.78.8-2.07 0-2.86zM5.41 20L4 18.59l7.72-7.72 1.47 1.35L5.41 20z\"/>\n",
              "  </svg>\n",
              "      </button>\n",
              "      \n",
              "  <style>\n",
              "    .colab-df-container {\n",
              "      display:flex;\n",
              "      flex-wrap:wrap;\n",
              "      gap: 12px;\n",
              "    }\n",
              "\n",
              "    .colab-df-convert {\n",
              "      background-color: #E8F0FE;\n",
              "      border: none;\n",
              "      border-radius: 50%;\n",
              "      cursor: pointer;\n",
              "      display: none;\n",
              "      fill: #1967D2;\n",
              "      height: 32px;\n",
              "      padding: 0 0 0 0;\n",
              "      width: 32px;\n",
              "    }\n",
              "\n",
              "    .colab-df-convert:hover {\n",
              "      background-color: #E2EBFA;\n",
              "      box-shadow: 0px 1px 2px rgba(60, 64, 67, 0.3), 0px 1px 3px 1px rgba(60, 64, 67, 0.15);\n",
              "      fill: #174EA6;\n",
              "    }\n",
              "\n",
              "    [theme=dark] .colab-df-convert {\n",
              "      background-color: #3B4455;\n",
              "      fill: #D2E3FC;\n",
              "    }\n",
              "\n",
              "    [theme=dark] .colab-df-convert:hover {\n",
              "      background-color: #434B5C;\n",
              "      box-shadow: 0px 1px 3px 1px rgba(0, 0, 0, 0.15);\n",
              "      filter: drop-shadow(0px 1px 2px rgba(0, 0, 0, 0.3));\n",
              "      fill: #FFFFFF;\n",
              "    }\n",
              "  </style>\n",
              "\n",
              "      <script>\n",
              "        const buttonEl =\n",
              "          document.querySelector('#df-d8261634-69af-4876-bb71-d5e68b1e429c button.colab-df-convert');\n",
              "        buttonEl.style.display =\n",
              "          google.colab.kernel.accessAllowed ? 'block' : 'none';\n",
              "\n",
              "        async function convertToInteractive(key) {\n",
              "          const element = document.querySelector('#df-d8261634-69af-4876-bb71-d5e68b1e429c');\n",
              "          const dataTable =\n",
              "            await google.colab.kernel.invokeFunction('convertToInteractive',\n",
              "                                                     [key], {});\n",
              "          if (!dataTable) return;\n",
              "\n",
              "          const docLinkHtml = 'Like what you see? Visit the ' +\n",
              "            '<a target=\"_blank\" href=https://colab.research.google.com/notebooks/data_table.ipynb>data table notebook</a>'\n",
              "            + ' to learn more about interactive tables.';\n",
              "          element.innerHTML = '';\n",
              "          dataTable['output_type'] = 'display_data';\n",
              "          await google.colab.output.renderOutput(dataTable, element);\n",
              "          const docLink = document.createElement('div');\n",
              "          docLink.innerHTML = docLinkHtml;\n",
              "          element.appendChild(docLink);\n",
              "        }\n",
              "      </script>\n",
              "    </div>\n",
              "  </div>\n",
              "  "
            ]
          },
          "metadata": {},
          "execution_count": 5
        }
      ],
      "source": [
        "from io import StringIO\n",
        "col = ['Product', 'Consumer complaint narrative']\n",
        "df = df[col]\n",
        "df = df[pd.notnull(df['Consumer complaint narrative'])]\n",
        "df.columns = ['Product', 'Consumer_complaint_narrative']\n",
        "df['category_id'] = df['Product'].factorize()[0]\n",
        "category_id_df = df[['Product', 'category_id']].drop_duplicates().sort_values('category_id')\n",
        "category_to_id = dict(category_id_df.values)\n",
        "id_to_category = dict(category_id_df[['category_id', 'Product']].values)\n",
        "df.head()"
      ]
    },
    {
      "cell_type": "code",
      "execution_count": 6,
      "metadata": {
        "id": "XWkyICp2uPG-"
      },
      "outputs": [],
      "source": [
        "df = df.head(1000)"
      ]
    },
    {
      "cell_type": "code",
      "execution_count": 7,
      "metadata": {
        "id": "bVyMRWhsuPG_",
        "outputId": "d084d1d1-27ea-443f-9e03-98e772a84ecf",
        "colab": {
          "base_uri": "https://localhost:8080/",
          "height": 641
        }
      },
      "outputs": [
        {
          "output_type": "execute_result",
          "data": {
            "text/plain": [
              "                                                Product  \\\n",
              "7     Credit reporting, credit repair services, or o...   \n",
              "9     Credit reporting, credit repair services, or o...   \n",
              "28    Credit reporting, credit repair services, or o...   \n",
              "37    Credit reporting, credit repair services, or o...   \n",
              "38    Credit reporting, credit repair services, or o...   \n",
              "...                                                 ...   \n",
              "4129  Credit reporting, credit repair services, or o...   \n",
              "4134  Credit reporting, credit repair services, or o...   \n",
              "4135  Credit reporting, credit repair services, or o...   \n",
              "4136  Credit reporting, credit repair services, or o...   \n",
              "4137  Credit reporting, credit repair services, or o...   \n",
              "\n",
              "                           Consumer_complaint_narrative  category_id  \n",
              "7     In accordance with the Fair Credit Reporting a...            0  \n",
              "9     This company is still reporting on an account ...            0  \n",
              "28    ON XX/XX/2022, MY XX/XX/2022 RECORDED CALL FRO...            0  \n",
              "37    XXXX/ XXXX  credit card balance was incorrectl...            0  \n",
              "38    My credit report contains a significant number...            0  \n",
              "...                                                 ...          ...  \n",
              "4129  Greetings, at the end of my current lease of a...            0  \n",
              "4134  I spoke to an Equifax representative today XXX...            0  \n",
              "4135  I started the dispute process with this compan...            0  \n",
              "4136  After reviewing my equifax account I realized ...            0  \n",
              "4137  Complaint # XXXX. \\nEquifax still has not remo...            0  \n",
              "\n",
              "[1000 rows x 3 columns]"
            ],
            "text/html": [
              "\n",
              "  <div id=\"df-6e8d14a0-62e2-4152-acad-12001a6c1f6b\">\n",
              "    <div class=\"colab-df-container\">\n",
              "      <div>\n",
              "<style scoped>\n",
              "    .dataframe tbody tr th:only-of-type {\n",
              "        vertical-align: middle;\n",
              "    }\n",
              "\n",
              "    .dataframe tbody tr th {\n",
              "        vertical-align: top;\n",
              "    }\n",
              "\n",
              "    .dataframe thead th {\n",
              "        text-align: right;\n",
              "    }\n",
              "</style>\n",
              "<table border=\"1\" class=\"dataframe\">\n",
              "  <thead>\n",
              "    <tr style=\"text-align: right;\">\n",
              "      <th></th>\n",
              "      <th>Product</th>\n",
              "      <th>Consumer_complaint_narrative</th>\n",
              "      <th>category_id</th>\n",
              "    </tr>\n",
              "  </thead>\n",
              "  <tbody>\n",
              "    <tr>\n",
              "      <th>7</th>\n",
              "      <td>Credit reporting, credit repair services, or o...</td>\n",
              "      <td>In accordance with the Fair Credit Reporting a...</td>\n",
              "      <td>0</td>\n",
              "    </tr>\n",
              "    <tr>\n",
              "      <th>9</th>\n",
              "      <td>Credit reporting, credit repair services, or o...</td>\n",
              "      <td>This company is still reporting on an account ...</td>\n",
              "      <td>0</td>\n",
              "    </tr>\n",
              "    <tr>\n",
              "      <th>28</th>\n",
              "      <td>Credit reporting, credit repair services, or o...</td>\n",
              "      <td>ON XX/XX/2022, MY XX/XX/2022 RECORDED CALL FRO...</td>\n",
              "      <td>0</td>\n",
              "    </tr>\n",
              "    <tr>\n",
              "      <th>37</th>\n",
              "      <td>Credit reporting, credit repair services, or o...</td>\n",
              "      <td>XXXX/ XXXX  credit card balance was incorrectl...</td>\n",
              "      <td>0</td>\n",
              "    </tr>\n",
              "    <tr>\n",
              "      <th>38</th>\n",
              "      <td>Credit reporting, credit repair services, or o...</td>\n",
              "      <td>My credit report contains a significant number...</td>\n",
              "      <td>0</td>\n",
              "    </tr>\n",
              "    <tr>\n",
              "      <th>...</th>\n",
              "      <td>...</td>\n",
              "      <td>...</td>\n",
              "      <td>...</td>\n",
              "    </tr>\n",
              "    <tr>\n",
              "      <th>4129</th>\n",
              "      <td>Credit reporting, credit repair services, or o...</td>\n",
              "      <td>Greetings, at the end of my current lease of a...</td>\n",
              "      <td>0</td>\n",
              "    </tr>\n",
              "    <tr>\n",
              "      <th>4134</th>\n",
              "      <td>Credit reporting, credit repair services, or o...</td>\n",
              "      <td>I spoke to an Equifax representative today XXX...</td>\n",
              "      <td>0</td>\n",
              "    </tr>\n",
              "    <tr>\n",
              "      <th>4135</th>\n",
              "      <td>Credit reporting, credit repair services, or o...</td>\n",
              "      <td>I started the dispute process with this compan...</td>\n",
              "      <td>0</td>\n",
              "    </tr>\n",
              "    <tr>\n",
              "      <th>4136</th>\n",
              "      <td>Credit reporting, credit repair services, or o...</td>\n",
              "      <td>After reviewing my equifax account I realized ...</td>\n",
              "      <td>0</td>\n",
              "    </tr>\n",
              "    <tr>\n",
              "      <th>4137</th>\n",
              "      <td>Credit reporting, credit repair services, or o...</td>\n",
              "      <td>Complaint # XXXX. \\nEquifax still has not remo...</td>\n",
              "      <td>0</td>\n",
              "    </tr>\n",
              "  </tbody>\n",
              "</table>\n",
              "<p>1000 rows × 3 columns</p>\n",
              "</div>\n",
              "      <button class=\"colab-df-convert\" onclick=\"convertToInteractive('df-6e8d14a0-62e2-4152-acad-12001a6c1f6b')\"\n",
              "              title=\"Convert this dataframe to an interactive table.\"\n",
              "              style=\"display:none;\">\n",
              "        \n",
              "  <svg xmlns=\"http://www.w3.org/2000/svg\" height=\"24px\"viewBox=\"0 0 24 24\"\n",
              "       width=\"24px\">\n",
              "    <path d=\"M0 0h24v24H0V0z\" fill=\"none\"/>\n",
              "    <path d=\"M18.56 5.44l.94 2.06.94-2.06 2.06-.94-2.06-.94-.94-2.06-.94 2.06-2.06.94zm-11 1L8.5 8.5l.94-2.06 2.06-.94-2.06-.94L8.5 2.5l-.94 2.06-2.06.94zm10 10l.94 2.06.94-2.06 2.06-.94-2.06-.94-.94-2.06-.94 2.06-2.06.94z\"/><path d=\"M17.41 7.96l-1.37-1.37c-.4-.4-.92-.59-1.43-.59-.52 0-1.04.2-1.43.59L10.3 9.45l-7.72 7.72c-.78.78-.78 2.05 0 2.83L4 21.41c.39.39.9.59 1.41.59.51 0 1.02-.2 1.41-.59l7.78-7.78 2.81-2.81c.8-.78.8-2.07 0-2.86zM5.41 20L4 18.59l7.72-7.72 1.47 1.35L5.41 20z\"/>\n",
              "  </svg>\n",
              "      </button>\n",
              "      \n",
              "  <style>\n",
              "    .colab-df-container {\n",
              "      display:flex;\n",
              "      flex-wrap:wrap;\n",
              "      gap: 12px;\n",
              "    }\n",
              "\n",
              "    .colab-df-convert {\n",
              "      background-color: #E8F0FE;\n",
              "      border: none;\n",
              "      border-radius: 50%;\n",
              "      cursor: pointer;\n",
              "      display: none;\n",
              "      fill: #1967D2;\n",
              "      height: 32px;\n",
              "      padding: 0 0 0 0;\n",
              "      width: 32px;\n",
              "    }\n",
              "\n",
              "    .colab-df-convert:hover {\n",
              "      background-color: #E2EBFA;\n",
              "      box-shadow: 0px 1px 2px rgba(60, 64, 67, 0.3), 0px 1px 3px 1px rgba(60, 64, 67, 0.15);\n",
              "      fill: #174EA6;\n",
              "    }\n",
              "\n",
              "    [theme=dark] .colab-df-convert {\n",
              "      background-color: #3B4455;\n",
              "      fill: #D2E3FC;\n",
              "    }\n",
              "\n",
              "    [theme=dark] .colab-df-convert:hover {\n",
              "      background-color: #434B5C;\n",
              "      box-shadow: 0px 1px 3px 1px rgba(0, 0, 0, 0.15);\n",
              "      filter: drop-shadow(0px 1px 2px rgba(0, 0, 0, 0.3));\n",
              "      fill: #FFFFFF;\n",
              "    }\n",
              "  </style>\n",
              "\n",
              "      <script>\n",
              "        const buttonEl =\n",
              "          document.querySelector('#df-6e8d14a0-62e2-4152-acad-12001a6c1f6b button.colab-df-convert');\n",
              "        buttonEl.style.display =\n",
              "          google.colab.kernel.accessAllowed ? 'block' : 'none';\n",
              "\n",
              "        async function convertToInteractive(key) {\n",
              "          const element = document.querySelector('#df-6e8d14a0-62e2-4152-acad-12001a6c1f6b');\n",
              "          const dataTable =\n",
              "            await google.colab.kernel.invokeFunction('convertToInteractive',\n",
              "                                                     [key], {});\n",
              "          if (!dataTable) return;\n",
              "\n",
              "          const docLinkHtml = 'Like what you see? Visit the ' +\n",
              "            '<a target=\"_blank\" href=https://colab.research.google.com/notebooks/data_table.ipynb>data table notebook</a>'\n",
              "            + ' to learn more about interactive tables.';\n",
              "          element.innerHTML = '';\n",
              "          dataTable['output_type'] = 'display_data';\n",
              "          await google.colab.output.renderOutput(dataTable, element);\n",
              "          const docLink = document.createElement('div');\n",
              "          docLink.innerHTML = docLinkHtml;\n",
              "          element.appendChild(docLink);\n",
              "        }\n",
              "      </script>\n",
              "    </div>\n",
              "  </div>\n",
              "  "
            ]
          },
          "metadata": {},
          "execution_count": 7
        }
      ],
      "source": [
        "df"
      ]
    },
    {
      "cell_type": "code",
      "execution_count": 8,
      "metadata": {
        "id": "x5-gb_ykuPG_",
        "outputId": "7a28aa68-15d6-4fb2-d30e-1180274ae780",
        "colab": {
          "base_uri": "https://localhost:8080/",
          "height": 752
        }
      },
      "outputs": [
        {
          "output_type": "display_data",
          "data": {
            "text/plain": [
              "<Figure size 576x432 with 1 Axes>"
            ],
            "image/png": "[encoded data removed]"
          },
          "metadata": {
            "needs_background": "light"
          }
        }
      ],
      "source": [
        "import matplotlib.pyplot as plt\n",
        "fig = plt.figure(figsize=(8,6))\n",
        "df.groupby('Product').Consumer_complaint_narrative.count().plot.bar(ylim=0)\n",
        "plt.show()"
      ]
    },
    {
      "cell_type": "code",
      "execution_count": 9,
      "metadata": {
        "id": "pZPusEWWuPG_",
        "outputId": "ce0311b0-e6d3-4fb5-b9e5-812d69c2b563",
        "colab": {
          "base_uri": "https://localhost:8080/"
        }
      },
      "outputs": [
        {
          "output_type": "execute_result",
          "data": {
            "text/plain": [
              "Product\n",
              "Checking or savings account                                                      56\n",
              "Credit card or prepaid card                                                      42\n",
              "Credit reporting, credit repair services, or other personal consumer reports    795\n",
              "Debt collection                                                                  41\n",
              "Money transfer, virtual currency, or money service                               12\n",
              "Mortgage                                                                         37\n",
              "Payday loan, title loan, or personal loan                                         9\n",
              "Student loan                                                                      4\n",
              "Vehicle loan or lease                                                             4\n",
              "Name: Consumer_complaint_narrative, dtype: int64"
            ]
          },
          "metadata": {},
          "execution_count": 9
        }
      ],
      "source": [
        "df.groupby('Product').Consumer_complaint_narrative.count()"
      ]
    },
    {
      "cell_type": "code",
      "execution_count": 10,
      "metadata": {
        "id": "8nn6-j_QuPG_",
        "outputId": "5dd68381-2e7e-4551-8547-ade2b5bee3bf",
        "colab": {
          "base_uri": "https://localhost:8080/"
        }
      },
      "outputs": [
        {
          "output_type": "execute_result",
          "data": {
            "text/plain": [
              "(1000, 3736)"
            ]
          },
          "metadata": {},
          "execution_count": 10
        }
      ],
      "source": [
        "from sklearn.feature_extraction.text import TfidfVectorizer\n",
        "tfidf = TfidfVectorizer(sublinear_tf=True, min_df=5, norm='l2', encoding='latin-1', ngram_range=(1, 2), stop_words='english')\n",
        "features = tfidf.fit_transform(df.Consumer_complaint_narrative).toarray()\n",
        "labels = df.category_id\n",
        "features.shape"
      ]
    },
    {
      "cell_type": "code",
      "execution_count": 11,
      "metadata": {
        "id": "mPN59eAouPHA",
        "outputId": "0ac0f8cf-f26d-4f0e-9c21-99937dc204b5",
        "colab": {
          "base_uri": "https://localhost:8080/"
        }
      },
      "outputs": [
        {
          "output_type": "execute_result",
          "data": {
            "text/plain": [
              "array([[0.        , 0.        , 0.        , ..., 0.        , 0.        ,\n",
              "        0.        ],\n",
              "       [0.09256154, 0.        , 0.21360041, ..., 0.        , 0.        ,\n",
              "        0.        ],\n",
              "       [0.        , 0.        , 0.        , ..., 0.        , 0.        ,\n",
              "        0.        ],\n",
              "       ...,\n",
              "       [0.        , 0.        , 0.        , ..., 0.        , 0.        ,\n",
              "        0.        ],\n",
              "       [0.        , 0.        , 0.        , ..., 0.        , 0.        ,\n",
              "        0.        ],\n",
              "       [0.        , 0.        , 0.        , ..., 0.        , 0.        ,\n",
              "        0.        ]])"
            ]
          },
          "metadata": {},
          "execution_count": 11
        }
      ],
      "source": [
        "features"
      ]
    },
    {
      "cell_type": "code",
      "execution_count": 13,
      "metadata": {
        "id": "Uj9FdFp4uPHA",
        "outputId": "97b10d76-ced7-43e7-f3b9-16cdd8e16d8f",
        "colab": {
          "base_uri": "https://localhost:8080/"
        }
      },
      "outputs": [
        {
          "output_type": "stream",
          "name": "stdout",
          "text": [
            "# 'Bank account or service':\n",
            "  . Most correlated unigrams:\n",
            ". double\n",
            ". doubts\n",
            "  . Most correlated bigrams:\n",
            ". does include\n",
            ". youre claiming\n",
            "# 'Checking or savings account':\n",
            "  . Most correlated unigrams:\n",
            ". funds\n",
            ". bank\n",
            "  . Most correlated bigrams:\n",
            ". debit card\n",
            ". money account\n",
            "# 'Consumer Loan':\n",
            "  . Most correlated unigrams:\n",
            ". double\n",
            ". doubts\n",
            "  . Most correlated bigrams:\n",
            ". does include\n",
            ". youre claiming\n",
            "# 'Credit card':\n",
            "  . Most correlated unigrams:\n",
            ". double\n",
            ". doubts\n",
            "  . Most correlated bigrams:\n",
            ". does include\n",
            ". youre claiming\n",
            "# 'Credit card or prepaid card':\n",
            "  . Most correlated unigrams:\n",
            ". charged\n",
            ". card\n",
            "  . Most correlated bigrams:\n",
            ". account 15\n",
            ". deleted account\n",
            "# 'Credit reporting':\n",
            "  . Most correlated unigrams:\n",
            ". double\n",
            ". doubts\n",
            "  . Most correlated bigrams:\n",
            ". does include\n",
            ". youre claiming\n",
            "# 'Credit reporting, credit repair services, or other personal consumer reports':\n",
            "  . Most correlated unigrams:\n",
            ". wells\n",
            ". fargo\n",
            "  . Most correlated bigrams:\n",
            ". bank america\n",
            ". wells fargo\n",
            "# 'Debt collection':\n",
            "  . Most correlated unigrams:\n",
            ". management\n",
            ". collection\n",
            "  . Most correlated bigrams:\n",
            ". owe xxxx\n",
            ". collection company\n",
            "# 'Money transfer, virtual currency, or money service':\n",
            "  . Most correlated unigrams:\n",
            ". pnc\n",
            ". scam\n",
            "  . Most correlated bigrams:\n",
            ". case xxxx\n",
            ". charge xxxx\n",
            "# 'Money transfers':\n",
            "  . Most correlated unigrams:\n",
            ". double\n",
            ". doubts\n",
            "  . Most correlated bigrams:\n",
            ". does include\n",
            ". youre claiming\n",
            "# 'Mortgage':\n",
            "  . Most correlated unigrams:\n",
            ". property\n",
            ". mortgage\n",
            "  . Most correlated bigrams:\n",
            ". wells fargo\n",
            ". mortgage xxxx\n",
            "# 'Other financial service':\n",
            "  . Most correlated unigrams:\n",
            ". double\n",
            ". doubts\n",
            "  . Most correlated bigrams:\n",
            ". does include\n",
            ". youre claiming\n",
            "# 'Payday loan':\n",
            "  . Most correlated unigrams:\n",
            ". double\n",
            ". doubts\n",
            "  . Most correlated bigrams:\n",
            ". does include\n",
            ". youre claiming\n",
            "# 'Payday loan, title loan, or personal loan':\n",
            "  . Most correlated unigrams:\n",
            ". finance\n",
            ". honor\n",
            "  . Most correlated bigrams:\n",
            ". brought attention\n",
            ". xxxx personal\n",
            "# 'Prepaid card':\n",
            "  . Most correlated unigrams:\n",
            ". double\n",
            ". doubts\n",
            "  . Most correlated bigrams:\n",
            ". does include\n",
            ". youre claiming\n",
            "# 'Student loan':\n",
            "  . Most correlated unigrams:\n",
            ". servicer\n",
            ". count\n",
            "  . Most correlated bigrams:\n",
            ". according law\n",
            ". told xxxx\n",
            "# 'Vehicle loan or lease':\n",
            "  . Most correlated unigrams:\n",
            ". starting\n",
            ". vehicle\n",
            "  . Most correlated bigrams:\n",
            ". right opt\n",
            ". usc 6802\n",
            "# 'Virtual currency':\n",
            "  . Most correlated unigrams:\n",
            ". double\n",
            ". doubts\n",
            "  . Most correlated bigrams:\n",
            ". does include\n",
            ". youre claiming\n"
          ]
        }
      ],
      "source": [
        "from sklearn.feature_selection import chi2\n",
        "import numpy as np\n",
        "N = 2\n",
        "for Product, category_id in sorted(category_to_id.items()):\n",
        "  features_chi2 = chi2(features, labels == category_id)\n",
        "  indices = np.argsort(features_chi2[0])\n",
        "  feature_names = np.array(tfidf.get_feature_names_out())[indices]\n",
        "  unigrams = [v for v in feature_names if len(v.split(' ')) == 1]\n",
        "  bigrams = [v for v in feature_names if len(v.split(' ')) == 2]\n",
        "  print(\"# '{}':\".format(Product))\n",
        "  print(\"  . Most correlated unigrams:\\n. {}\".format('\\n. '.join(unigrams[-N:])))\n",
        "  print(\"  . Most correlated bigrams:\\n. {}\".format('\\n. '.join(bigrams[-N:])))"
      ]
    },
    {
      "cell_type": "code",
      "execution_count": 14,
      "metadata": {
        "id": "Ms4Q1aH0uPHA"
      },
      "outputs": [],
      "source": [
        "# Naive Bayes Classifier: the one most suitable for word counts is the multinomial variant:\n",
        "from sklearn.model_selection import train_test_split\n",
        "\n",
        "from sklearn.feature_extraction.text import CountVectorizer\n",
        "\n",
        "from sklearn.feature_extraction.text import TfidfTransformer\n",
        "\n",
        "from sklearn.naive_bayes import MultinomialNB\n",
        "\n",
        "count_vect = CountVectorizer()\n",
        "\n",
        "X_train, X_test, y_train, y_test = train_test_split(df['Consumer_complaint_narrative'], df['Product'], random_state = 0)"
      ]
    },
    {
      "cell_type": "code",
      "execution_count": 15,
      "metadata": {
        "id": "Qm23qfxhuPHB",
        "outputId": "448a2523-2fb3-4e25-98f0-cd63ddd7564b",
        "colab": {
          "base_uri": "https://localhost:8080/"
        }
      },
      "outputs": [
        {
          "output_type": "execute_result",
          "data": {
            "text/plain": [
              "750"
            ]
          },
          "metadata": {},
          "execution_count": 15
        }
      ],
      "source": [
        "X_train.count()"
      ]
    },
    {
      "cell_type": "code",
      "execution_count": 16,
      "metadata": {
        "id": "teBS1gtyuPHB",
        "outputId": "4c7730ec-7c6a-4626-a50b-d34defb68627",
        "colab": {
          "base_uri": "https://localhost:8080/"
        }
      },
      "outputs": [
        {
          "output_type": "execute_result",
          "data": {
            "text/plain": [
              "4126    I am a natural person, I am a living human bei...\n",
              "3832    I am continually being called on the telephone...\n",
              "1395    Yesterday morning, XX/XX/2022, I tried to proc...\n",
              "2628    As of XX/XX/2022, before and after I have subm...\n",
              "3095    XXXX, Transunion, XXXX heretofore ( XXXX ) has...\n",
              "                              ...                        \n",
              "2297    I opened an secured credit card account XX/XX/...\n",
              "1690    On XX/XX/2022, I sent a letter regarding inacc...\n",
              "28      ON XX/XX/2022, MY XX/XX/2022 RECORDED CALL FRO...\n",
              "2360    I discovered that some of the information on m...\n",
              "3176    Again, I was a victim of identity theft and th...\n",
              "Name: Consumer_complaint_narrative, Length: 250, dtype: object"
            ]
          },
          "metadata": {},
          "execution_count": 16
        }
      ],
      "source": [
        "X_test"
      ]
    },
    {
      "cell_type": "code",
      "execution_count": 17,
      "metadata": {
        "id": "QOyS8PCguPHB",
        "outputId": "9f2c194d-e812-4ab3-e008-7672ca2a7bff",
        "colab": {
          "base_uri": "https://localhost:8080/"
        }
      },
      "outputs": [
        {
          "output_type": "execute_result",
          "data": {
            "text/plain": [
              "750"
            ]
          },
          "metadata": {},
          "execution_count": 17
        }
      ],
      "source": [
        "y_train.count()"
      ]
    },
    {
      "cell_type": "code",
      "execution_count": 18,
      "metadata": {
        "id": "5_-urBR0uPHB",
        "outputId": "3e4e81e0-a6c0-4668-be83-63de761cf74b",
        "colab": {
          "base_uri": "https://localhost:8080/"
        }
      },
      "outputs": [
        {
          "output_type": "execute_result",
          "data": {
            "text/plain": [
              "250"
            ]
          },
          "metadata": {},
          "execution_count": 18
        }
      ],
      "source": [
        "y_test.count()"
      ]
    },
    {
      "cell_type": "code",
      "execution_count": 19,
      "metadata": {
        "id": "9D32H70fuPHB"
      },
      "outputs": [],
      "source": [
        "#Term Frecuency - TF\n",
        "count_vect = CountVectorizer()\n",
        "X_train_counts = count_vect.fit_transform(X_train)"
      ]
    },
    {
      "cell_type": "code",
      "execution_count": 20,
      "metadata": {
        "id": "DCw-_kTXuPHB",
        "outputId": "9f9cdae5-4889-4c5b-a6de-28fecbfe4691",
        "colab": {
          "base_uri": "https://localhost:8080/"
        }
      },
      "outputs": [
        {
          "output_type": "stream",
          "name": "stdout",
          "text": [
            "  (0, 4217)\t13\n",
            "  (0, 1841)\t1\n",
            "  (0, 4623)\t19\n",
            "  (0, 1292)\t1\n",
            "  (0, 4013)\t1\n",
            "  (0, 4410)\t1\n",
            "  (0, 2831)\t6\n",
            "  (0, 2194)\t1\n",
            "  (0, 2816)\t1\n",
            "  (0, 4564)\t1\n",
            "  (0, 733)\t2\n",
            "  (0, 1485)\t2\n",
            "  (0, 1554)\t2\n",
            "  (0, 727)\t3\n",
            "  (0, 1243)\t3\n",
            "  (0, 881)\t2\n",
            "  (0, 3580)\t1\n",
            "  (0, 2781)\t1\n",
            "  (0, 2961)\t1\n",
            "  (0, 2519)\t2\n",
            "  (0, 3100)\t4\n",
            "  (0, 2183)\t1\n",
            "  (0, 4149)\t5\n",
            "  (0, 4514)\t3\n",
            "  (0, 4154)\t1\n",
            "  :\t:\n",
            "  (749, 3567)\t1\n",
            "  (749, 605)\t1\n",
            "  (749, 3661)\t1\n",
            "  (749, 1512)\t2\n",
            "  (749, 3722)\t2\n",
            "  (749, 4101)\t1\n",
            "  (749, 884)\t1\n",
            "  (749, 2229)\t1\n",
            "  (749, 2044)\t1\n",
            "  (749, 2350)\t1\n",
            "  (749, 332)\t1\n",
            "  (749, 1708)\t1\n",
            "  (749, 1520)\t1\n",
            "  (749, 961)\t3\n",
            "  (749, 398)\t1\n",
            "  (749, 3780)\t3\n",
            "  (749, 4080)\t1\n",
            "  (749, 4591)\t1\n",
            "  (749, 3695)\t1\n",
            "  (749, 3849)\t1\n",
            "  (749, 986)\t1\n",
            "  (749, 2412)\t3\n",
            "  (749, 1319)\t1\n",
            "  (749, 1019)\t1\n",
            "  (749, 660)\t1\n"
          ]
        }
      ],
      "source": [
        "print(X_train_counts)"
      ]
    },
    {
      "cell_type": "code",
      "execution_count": 21,
      "metadata": {
        "id": "o5DijC_IuPHB"
      },
      "outputs": [],
      "source": [
        "tfidf_transformer = TfidfTransformer()\n",
        "\n",
        "X_train_tfidf = tfidf_transformer.fit_transform(X_train_counts)"
      ]
    },
    {
      "cell_type": "code",
      "execution_count": 22,
      "metadata": {
        "id": "v57z3MHZuPHC",
        "outputId": "d8af28b0-ca31-4e0d-a748-27369879950c",
        "colab": {
          "base_uri": "https://localhost:8080/"
        }
      },
      "outputs": [
        {
          "output_type": "stream",
          "name": "stdout",
          "text": [
            "  (0, 4623)\t0.2973362069275181\n",
            "  (0, 4622)\t0.05819782094980658\n",
            "  (0, 4606)\t0.04251365316713803\n",
            "  (0, 4576)\t0.0426816682444575\n",
            "  (0, 4564)\t0.03782350680772678\n",
            "  (0, 4552)\t0.029269508165508173\n",
            "  (0, 4514)\t0.0717025604982413\n",
            "  (0, 4410)\t0.09435736701639547\n",
            "  (0, 4402)\t0.04998468489278709\n",
            "  (0, 4388)\t0.13609451007634546\n",
            "  (0, 4307)\t0.08491725400901992\n",
            "  (0, 4296)\t0.05577125588154392\n",
            "  (0, 4278)\t0.05841550629298417\n",
            "  (0, 4218)\t0.05499280377049939\n",
            "  (0, 4217)\t0.19593960677871317\n",
            "  (0, 4193)\t0.045936355689622795\n",
            "  (0, 4178)\t0.020624688132237067\n",
            "  (0, 4166)\t0.05602628040712698\n",
            "  (0, 4155)\t0.0720366536626942\n",
            "  (0, 4154)\t0.04266582462980844\n",
            "  (0, 4151)\t0.04461597425972843\n",
            "  (0, 4149)\t0.09404944445971485\n",
            "  (0, 4042)\t0.08883525490451076\n",
            "  (0, 4013)\t0.09435736701639547\n",
            "  (0, 3964)\t0.0532215836572849\n",
            "  :\t:\n",
            "  (749, 1290)\t0.04686231787345597\n",
            "  (749, 1190)\t0.08170749015259894\n",
            "  (749, 1151)\t0.06399488346984833\n",
            "  (749, 1019)\t0.10639825254314954\n",
            "  (749, 986)\t0.10639825254314954\n",
            "  (749, 961)\t0.3077713445646027\n",
            "  (749, 884)\t0.0798094946458488\n",
            "  (749, 881)\t0.05289301584679798\n",
            "  (749, 865)\t0.05935450565037946\n",
            "  (749, 852)\t0.046732550167931264\n",
            "  (749, 775)\t0.2837103956049326\n",
            "  (749, 739)\t0.10294032226779529\n",
            "  (749, 733)\t0.06780070673697063\n",
            "  (749, 660)\t0.11822637321798818\n",
            "  (749, 644)\t0.04647593824891932\n",
            "  (749, 617)\t0.06472113652163664\n",
            "  (749, 613)\t0.06613555980793014\n",
            "  (749, 605)\t0.07512640248357495\n",
            "  (749, 527)\t0.1950280156790695\n",
            "  (749, 525)\t0.03725709081701069\n",
            "  (749, 456)\t0.058560670842769925\n",
            "  (749, 403)\t0.06167187353660652\n",
            "  (749, 398)\t0.09076232751336225\n",
            "  (749, 361)\t0.030437295507228006\n",
            "  (749, 332)\t0.08170749015259894\n"
          ]
        }
      ],
      "source": [
        "print(X_train_tfidf)"
      ]
    },
    {
      "cell_type": "code",
      "execution_count": 23,
      "metadata": {
        "id": "rOkWY-A9uPHC",
        "outputId": "8415bd4a-8a89-467f-a36a-494ecd7f7218",
        "colab": {
          "base_uri": "https://localhost:8080/"
        }
      },
      "outputs": [
        {
          "output_type": "execute_result",
          "data": {
            "text/plain": [
              "750"
            ]
          },
          "metadata": {},
          "execution_count": 23
        }
      ],
      "source": [
        "y_train.count()"
      ]
    },
    {
      "cell_type": "code",
      "execution_count": 24,
      "metadata": {
        "id": "SLmp_GDSuPHC"
      },
      "outputs": [],
      "source": [
        "clf = MultinomialNB().fit(X_train_tfidf, y_train)"
      ]
    },
    {
      "cell_type": "code",
      "execution_count": 25,
      "metadata": {
        "id": "m4gji6F8uPHC",
        "outputId": "eca96449-d7ea-49dc-bbbb-0ec58ebe7b63",
        "colab": {
          "base_uri": "https://localhost:8080/"
        }
      },
      "outputs": [
        {
          "output_type": "stream",
          "name": "stdout",
          "text": [
            "MultinomialNB()\n"
          ]
        }
      ],
      "source": [
        "print(clf)"
      ]
    },
    {
      "cell_type": "code",
      "execution_count": 26,
      "metadata": {
        "id": "1HEgKxY4uPHC",
        "outputId": "e36c0a83-6ae8-4794-9940-9e704cc24c6f",
        "colab": {
          "base_uri": "https://localhost:8080/"
        }
      },
      "outputs": [
        {
          "output_type": "stream",
          "name": "stdout",
          "text": [
            "['Credit reporting, credit repair services, or other personal consumer reports']\n"
          ]
        }
      ],
      "source": [
        "print(clf.predict(count_vect.transform([\"This company refuses to provide me verification and validation of debt per my right under the FDCPA. I do not believe this debt is mine.\"])))"
      ]
    },
    {
      "cell_type": "code",
      "execution_count": 27,
      "metadata": {
        "id": "70QIFSCYuPHD"
      },
      "outputs": [],
      "source": [
        "# Naive Bayes Classifier: the one most suitable for word counts is the multinomial variant:\n",
        "from sklearn.model_selection import train_test_split\n",
        "\n",
        "from sklearn.feature_extraction.text import CountVectorizer\n",
        "\n",
        "from sklearn.feature_extraction.text import TfidfTransformer\n",
        "\n",
        "from sklearn.naive_bayes import MultinomialNB\n",
        "\n",
        "import pickle\n",
        "\n",
        "X_train, X_test, y_train, y_test = train_test_split(df['Consumer_complaint_narrative'], df['Product'], random_state = 0)\n",
        "\n",
        "count_vect = CountVectorizer()\n",
        "\n",
        "X_train_counts = count_vect.fit_transform(X_train)\n",
        "\n",
        "tfidf_transformer = TfidfTransformer()\n",
        "\n",
        "X_train_tfidf = tfidf_transformer.fit_transform(X_train_counts)\n",
        "\n",
        "clf = MultinomialNB().fit(X_train_tfidf, y_train)\n",
        "\n",
        "pickle.dump(clf,open(\"file.model\",\"wb\"))\n",
        "\n",
        "#clf = pickle.load(open(\"file.model\", 'rb'))\n",
        "#result = clf.score(X_test, Y_test)\n"
      ]
    },
    {
      "cell_type": "code",
      "execution_count": 28,
      "metadata": {
        "id": "Qd58MZBZuPHD",
        "outputId": "4656f5f5-709f-4992-bea6-89abcaf75d13",
        "colab": {
          "base_uri": "https://localhost:8080/"
        }
      },
      "outputs": [
        {
          "output_type": "stream",
          "name": "stdout",
          "text": [
            "['Credit reporting, credit repair services, or other personal consumer reports']\n"
          ]
        }
      ],
      "source": [
        "#After fitting the training set, let’s make some predictions.\n",
        "print(clf.predict(count_vect.transform([\"This company refuses to provide me verification and validation of debt per my right under the FDCPA. I do not believe this debt is mine.\"])))"
      ]
    },
    {
      "cell_type": "code",
      "execution_count": 29,
      "metadata": {
        "id": "sXb7BASYuPHD",
        "outputId": "2388801b-045c-4d63-f398-a43ebd75fbe4",
        "colab": {
          "base_uri": "https://localhost:8080/"
        }
      },
      "outputs": [
        {
          "output_type": "stream",
          "name": "stdout",
          "text": [
            "['Credit reporting, credit repair services, or other personal consumer reports']\n"
          ]
        }
      ],
      "source": [
        "print(clf.predict(count_vect.transform([\"I am disputing the inaccurate information the Chex-Systems has on my credit report. I initially submitted a police report on XXXX/XXXX/16 and Chex Systems only deleted the items that I mentioned in the letter and not all \\n the items that were actually listed on the police report. In other words they wanted me to say word for word to them what items were fraudulent. The total disregard of the police report and what accounts that it states that are fraudulent. If they just had paid a little closer attention to the police report I would not been in this position now and they would n't have to research once again. I would like the reported information to be removed : XXXX XXXX XXXX\"])))"
      ]
    },
    {
      "cell_type": "code",
      "execution_count": 30,
      "metadata": {
        "id": "dOhZo_HouPHD",
        "outputId": "f858d700-df53-4a43-8566-ca67717dcd1c",
        "colab": {
          "base_uri": "https://localhost:8080/",
          "height": 130
        }
      },
      "outputs": [
        {
          "output_type": "error",
          "ename": "SyntaxError",
          "evalue": "ignored",
          "traceback": [
            "\u001b[0;36m  File \u001b[0;32m\"<ipython-input-30-3b4873f2ab38>\"\u001b[0;36m, line \u001b[0;32m6\u001b[0m\n\u001b[0;31m    for each x_test:\u001b[0m\n\u001b[0m             ^\u001b[0m\n\u001b[0;31mSyntaxError\u001b[0m\u001b[0;31m:\u001b[0m invalid syntax\n"
          ]
        }
      ],
      "source": [
        "# evaluar con el conjunto de testing\n",
        "\n",
        "x_test\n",
        "y_test\n",
        "\n",
        "for each x_test:\n",
        "    salida[] = clf.predict(count_vect.transfor(x_test[]))\n",
        "\n",
        "evaluación????\n",
        "\n",
        "    comparar (salida, y_test), precicin, recall, f1-score????, 80% ?????"
      ]
    }
  ],
  "metadata": {
    "kernelspec": {
      "display_name": "Python 3.10.6 64-bit",
      "language": "python",
      "name": "python3"
    },
    "language_info": {
      "codemirror_mode": {
        "name": "ipython",
        "version": 3
      },
      "file_extension": ".py",
      "mimetype": "text/x-python",
      "name": "python",
      "nbconvert_exporter": "python",
      "pygments_lexer": "ipython3",
      "version": "3.10.6"
    },
    "vscode": {
      "interpreter": {
        "hash": "aee8b7b246df8f9039afb4144a1f6fd8d2ca17a180786b69acc140d282b71a49"
      }
    },
    "colab": {
      "provenance": []
    }
  },
  "nbformat": 4,
  "nbformat_minor": 0
}